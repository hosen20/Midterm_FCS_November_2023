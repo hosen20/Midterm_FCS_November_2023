{
 "cells": [
  {
   "cell_type": "code",
   "execution_count": 1,
   "id": "2c8004f9",
   "metadata": {},
   "outputs": [],
   "source": [
    "import functions as fnc"
   ]
  },
  {
   "cell_type": "code",
   "execution_count": 2,
   "id": "08c61075",
   "metadata": {},
   "outputs": [
    {
     "name": "stdout",
     "output_type": "stream",
     "text": [
      "please enter url: 23\n",
      "\n",
      "\n",
      "please enter url: hy\n",
      "\n",
      "\n",
      "please enter url: https://google.com\n"
     ]
    },
    {
     "data": {
      "text/plain": [
       "'https://google.com'"
      ]
     },
     "execution_count": 2,
     "metadata": {},
     "output_type": "execute_result"
    }
   ],
   "source": [
    "fnc.validateURL()"
   ]
  },
  {
   "cell_type": "code",
   "execution_count": null,
   "id": "c91a2db1",
   "metadata": {},
   "outputs": [],
   "source": []
  }
 ],
 "metadata": {
  "kernelspec": {
   "display_name": "Python 3 (ipykernel)",
   "language": "python",
   "name": "python3"
  },
  "language_info": {
   "codemirror_mode": {
    "name": "ipython",
    "version": 3
   },
   "file_extension": ".py",
   "mimetype": "text/x-python",
   "name": "python",
   "nbconvert_exporter": "python",
   "pygments_lexer": "ipython3",
   "version": "3.9.12"
  }
 },
 "nbformat": 4,
 "nbformat_minor": 5
}
