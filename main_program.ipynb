{
 "cells": [
  {
   "cell_type": "code",
   "execution_count": 1,
   "id": "2c8004f9",
   "metadata": {},
   "outputs": [],
   "source": [
    "from functions import *"
   ]
  },
  {
   "cell_type": "code",
   "execution_count": 2,
   "id": "08c61075",
   "metadata": {},
   "outputs": [],
   "source": [
    "import os\n",
    "import validators\n",
    "import requests\n",
    "from bs4 import BeautifulSoup\n",
    "import time\n",
    "import json\n",
    "from IPython.display import clear_output"
   ]
  },
  {
   "cell_type": "code",
   "execution_count": 8,
   "id": "bacded3c",
   "metadata": {},
   "outputs": [
    {
     "name": "stdout",
     "output_type": "stream",
     "text": [
      "enter choice6\n",
      "\n",
      "\n",
      "enter choice9\n",
      "\n",
      "\n"
     ]
    }
   ],
   "source": [
    "stop = False\n",
    "list_of_tabs = []\n",
    "while (not stop):\n",
    "    choice = eval(input(\"enter choice\"))\n",
    "    print(\"\\n\")\n",
    "    if (choice == 1):\n",
    "        add_tab(list_of_tabs)\n",
    "    elif (choice == 2):\n",
    "        remove_tab(list_of_tabs)\n",
    "    elif (choice == 3):\n",
    "        display(list_of_tabs)\n",
    "    elif (choice == 4):\n",
    "        display_titles(list_of_tabs)\n",
    "    elif (choice == 5):\n",
    "        add_nested_tab(list_of_tabs)\n",
    "    elif (choice == 6):\n",
    "        clear(list_of_tabs)\n",
    "    elif (choice == 7):\n",
    "        saveTabs(list_of_tabs)\n",
    "    elif (choice == 8):\n",
    "        loadTabs()\n",
    "    elif (choice == 9):\n",
    "        stop = True\n",
    "    #for i in range(2):\n",
    "    #    clear_output(wait=True)\n",
    "    #print('\\n')"
   ]
  },
  {
   "cell_type": "code",
   "execution_count": 9,
   "id": "703c19ba",
   "metadata": {},
   "outputs": [
    {
     "data": {
      "text/plain": [
       "[]"
      ]
     },
     "execution_count": 9,
     "metadata": {},
     "output_type": "execute_result"
    }
   ],
   "source": [
    "list_of_tabs"
   ]
  },
  {
   "cell_type": "code",
   "execution_count": null,
   "id": "6186f546",
   "metadata": {},
   "outputs": [],
   "source": []
  }
 ],
 "metadata": {
  "kernelspec": {
   "display_name": "Python 3 (ipykernel)",
   "language": "python",
   "name": "python3"
  },
  "language_info": {
   "codemirror_mode": {
    "name": "ipython",
    "version": 3
   },
   "file_extension": ".py",
   "mimetype": "text/x-python",
   "name": "python",
   "nbconvert_exporter": "python",
   "pygments_lexer": "ipython3",
   "version": "3.9.12"
  }
 },
 "nbformat": 4,
 "nbformat_minor": 5
}
