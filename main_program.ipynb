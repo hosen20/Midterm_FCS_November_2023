{
 "cells": [
  {
   "cell_type": "code",
   "execution_count": 1,
   "id": "1137457a",
   "metadata": {},
   "outputs": [
    {
     "name": "stdout",
     "output_type": "stream",
     "text": [
      "The Zen of Python, by Tim Peters\n",
      "\n",
      "Beautiful is better than ugly.\n",
      "Explicit is better than implicit.\n",
      "Simple is better than complex.\n",
      "Complex is better than complicated.\n",
      "Flat is better than nested.\n",
      "Sparse is better than dense.\n",
      "Readability counts.\n",
      "Special cases aren't special enough to break the rules.\n",
      "Although practicality beats purity.\n",
      "Errors should never pass silently.\n",
      "Unless explicitly silenced.\n",
      "In the face of ambiguity, refuse the temptation to guess.\n",
      "There should be one-- and preferably only one --obvious way to do it.\n",
      "Although that way may not be obvious at first unless you're Dutch.\n",
      "Now is better than never.\n",
      "Although never is often better than *right* now.\n",
      "If the implementation is hard to explain, it's a bad idea.\n",
      "If the implementation is easy to explain, it may be a good idea.\n",
      "Namespaces are one honking great idea -- let's do more of those!\n"
     ]
    }
   ],
   "source": [
    "import this"
   ]
  },
  {
   "cell_type": "code",
   "execution_count": 1,
   "id": "2c8004f9",
   "metadata": {},
   "outputs": [],
   "source": [
    "from functions import *"
   ]
  },
  {
   "cell_type": "code",
   "execution_count": 2,
   "id": "08c61075",
   "metadata": {},
   "outputs": [],
   "source": [
    "import os\n",
    "import validators\n",
    "import requests\n",
    "from bs4 import BeautifulSoup\n",
    "import time\n",
    "import json"
   ]
  },
  {
   "cell_type": "code",
   "execution_count": 5,
   "id": "bacded3c",
   "metadata": {},
   "outputs": [
    {
     "name": "stdout",
     "output_type": "stream",
     "text": [
      "\n",
      "    1. Open Tab\n",
      "    2. Close Tab\n",
      "    3. Switch Tab\n",
      "    4. Display All Tabs\n",
      "    5. Open Nested Tab\n",
      "    6. Clear All Tabs\n",
      "    7. Save Tabs\n",
      "    8. Import Tabs\n",
      "    9. Exit\n",
      "    \n",
      "enter choice, a choice not beween 1 and 9 will default to 9: 1\n",
      "\n",
      "\n",
      "please enter url: http://sefactory.io\n",
      "enter title: sefactory\n",
      "\n",
      "\n",
      "enter choice, a choice not beween 1 and 9 will default to 9: 5\n",
      "\n",
      "\n",
      "enter index: 3\n",
      "\n",
      "\n",
      "enter index: 2\n",
      "\n",
      "\n",
      "enter index: 1\n",
      "\n",
      "\n",
      "enter index: 0\n",
      "\n",
      "\n",
      "enter title: facegoogle\n",
      "\n",
      "\n",
      "\n",
      "\n",
      "please enter url: http://facebook.com\n",
      "enter choice, a choice not beween 1 and 9 will default to 9: 4\n",
      "\n",
      "\n",
      "sefactory\n",
      "\t--facegoogle\n",
      "enter choice, a choice not beween 1 and 9 will default to 9: 7\n",
      "\n",
      "\n",
      "enter path with a .json file: new.json\n",
      "\n",
      "\n",
      "enter choice, a choice not beween 1 and 9 will default to 9: 4\n",
      "\n",
      "\n",
      "sefactory\n",
      "\t--facegoogle\n",
      "enter choice, a choice not beween 1 and 9 will default to 9: 6\n",
      "\n",
      "\n",
      "enter choice, a choice not beween 1 and 9 will default to 9: 4\n",
      "\n",
      "\n",
      "no opened tabs\n",
      "enter choice, a choice not beween 1 and 9 will default to 9: 8\n",
      "\n",
      "\n",
      "enter path: kdkdkdk\n",
      "\n",
      "\n",
      "enter path: new.kdkd\n",
      "\n",
      "\n",
      "enter path: new.json\n",
      "\n",
      "\n",
      "enter choice, a choice not beween 1 and 9 will default to 9: 4\n",
      "\n",
      "\n",
      "sefactory\n",
      "\t--facegoogle\n",
      "enter choice, a choice not beween 1 and 9 will default to 9: 6\n",
      "\n",
      "\n",
      "enter choice, a choice not beween 1 and 9 will default to 9: 4\n",
      "\n",
      "\n",
      "no opened tabs\n",
      "enter choice, a choice not beween 1 and 9 will default to 9: 1\n",
      "\n",
      "\n",
      "please enter url: http://google.com\n",
      "enter title: google\n",
      "\n",
      "\n",
      "enter choice, a choice not beween 1 and 9 will default to 9: 4\n",
      "\n",
      "\n",
      "google\n",
      "enter choice, a choice not beween 1 and 9 will default to 9: 8\n",
      "\n",
      "\n",
      "enter path: new.json\n",
      "\n",
      "\n",
      "enter choice, a choice not beween 1 and 9 will default to 9: 4\n",
      "\n",
      "\n",
      "google\n",
      "sefactory\n",
      "\t--facegoogle\n",
      "enter choice, a choice not beween 1 and 9 will default to 9: 9\n",
      "\n",
      "\n"
     ]
    }
   ],
   "source": [
    "stop = False\n",
    "list_of_tabs = []\n",
    "\n",
    "print_menu()\n",
    "\n",
    "while (not stop):\n",
    "    \n",
    "    # check if choice is numeric\n",
    "    choice = ''\n",
    "    while (not choice.isnumeric()):\n",
    "        choice = input(\"enter choice, a choice not beween 1 and 9 will default to 9: \")\n",
    "        print(\"\\n\")\n",
    "    choice = int(choice)\n",
    "    \n",
    "    # choice 1 adding a new tab\n",
    "    if (choice == 1):\n",
    "        add_tab(list_of_tabs)\n",
    "    \n",
    "    # choice 2 removing a tab\n",
    "    elif (choice == 2):\n",
    "        remove_tab(list_of_tabs)\n",
    "    \n",
    "    # choice 3 displaying a tab with its nested tabs\n",
    "    elif (choice == 3):\n",
    "        display(list_of_tabs)\n",
    "    \n",
    "    # choice 4 displaying the titles of every tab\n",
    "    elif (choice == 4):\n",
    "        display_titles(list_of_tabs)\n",
    "    \n",
    "    # adding a nested tab to a tab\n",
    "    elif (choice == 5):\n",
    "        add_nested_tab(list_of_tabs)\n",
    "    \n",
    "    # closing all tabs\n",
    "    elif (choice == 6):\n",
    "        list_of_tabs = []\n",
    "    \n",
    "    # loading all tabs to a file as json\n",
    "    elif (choice == 7):\n",
    "        save_tabs(list_of_tabs)\n",
    "    \n",
    "    # extracting all tabs from json file\n",
    "    elif (choice == 8):\n",
    "        list_of_tabs = list_of_tabs + load_tabs()\n",
    "    \n",
    "    else:\n",
    "        stop = True"
   ]
  },
  {
   "cell_type": "code",
   "execution_count": 5,
   "id": "703c19ba",
   "metadata": {},
   "outputs": [
    {
     "data": {
      "text/plain": [
       "[{'xanadu': 'http://xanadu.com', 'nested_tabs': []},\n",
       " {'google': 'http://google.com',\n",
       "  'nested_tabs': [{'sefactory': 'http://sefactory.io'}]}]"
      ]
     },
     "execution_count": 5,
     "metadata": {},
     "output_type": "execute_result"
    }
   ],
   "source": [
    "list_of_tabs"
   ]
  },
  {
   "cell_type": "code",
   "execution_count": 11,
   "id": "6186f546",
   "metadata": {},
   "outputs": [
    {
     "data": {
      "text/plain": [
       "[{'google': 'http://google.com', 'nested_tabs': []},\n",
       " {'facebook': 'http://facebook.com',\n",
       "  'nested_tabs': [{'new_facebook': 'http://facebook.com'}]}]"
      ]
     },
     "execution_count": 11,
     "metadata": {},
     "output_type": "execute_result"
    }
   ],
   "source": [
    "tabs = []\n",
    "with open('new.json') as f:\n",
    "        data = json.load(f)\n",
    "        # append the new tabs to the list_of_tabs list\n",
    "        tabs = tabs + list(data)\n",
    "tabs"
   ]
  },
  {
   "cell_type": "code",
   "execution_count": null,
   "id": "dd9a86da",
   "metadata": {},
   "outputs": [],
   "source": []
  }
 ],
 "metadata": {
  "kernelspec": {
   "display_name": "Python 3 (ipykernel)",
   "language": "python",
   "name": "python3"
  },
  "language_info": {
   "codemirror_mode": {
    "name": "ipython",
    "version": 3
   },
   "file_extension": ".py",
   "mimetype": "text/x-python",
   "name": "python",
   "nbconvert_exporter": "python",
   "pygments_lexer": "ipython3",
   "version": "3.9.12"
  }
 },
 "nbformat": 4,
 "nbformat_minor": 5
}
