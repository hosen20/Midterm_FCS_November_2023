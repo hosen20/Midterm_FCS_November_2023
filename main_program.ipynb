{
 "cells": [
  {
   "cell_type": "code",
   "execution_count": 1,
   "id": "2c8004f9",
   "metadata": {},
   "outputs": [],
   "source": [
    "from functions import *"
   ]
  },
  {
   "cell_type": "code",
   "execution_count": 2,
   "id": "08c61075",
   "metadata": {},
   "outputs": [],
   "source": [
    "import os\n",
    "import validators\n",
    "import requests\n",
    "from bs4 import BeautifulSoup\n",
    "import time\n",
    "import json\n",
    "from IPython.display import clear_output"
   ]
  },
  {
   "cell_type": "code",
   "execution_count": 4,
   "id": "bacded3c",
   "metadata": {},
   "outputs": [
    {
     "name": "stdout",
     "output_type": "stream",
     "text": [
      "enter choice1\n",
      "\n",
      "\n",
      "please enter url: http://google.com\n",
      "enter title: google\n",
      "\n",
      "\n",
      "enter choice4\n",
      "\n",
      "\n",
      "enter index: 0\n",
      "\n",
      "\n",
      "google\n",
      "enter choice5\n",
      "\n",
      "\n",
      "enter index: 1\n",
      "\n",
      "\n",
      "enter index: 0\n",
      "\n",
      "\n"
     ]
    },
    {
     "ename": "TypeError",
     "evalue": "list indices must be integers or slices, not str",
     "output_type": "error",
     "traceback": [
      "\u001b[0;31m---------------------------------------------------------------------------\u001b[0m",
      "\u001b[0;31mTypeError\u001b[0m                                 Traceback (most recent call last)",
      "Input \u001b[0;32mIn [4]\u001b[0m, in \u001b[0;36m<cell line: 3>\u001b[0;34m()\u001b[0m\n\u001b[1;32m     13\u001b[0m     display_titles(list_of_tabs)\n\u001b[1;32m     14\u001b[0m \u001b[38;5;28;01melif\u001b[39;00m (choice \u001b[38;5;241m==\u001b[39m \u001b[38;5;241m5\u001b[39m):\n\u001b[0;32m---> 15\u001b[0m     \u001b[43madd_nested_tab\u001b[49m\u001b[43m(\u001b[49m\u001b[43mlist_of_tabs\u001b[49m\u001b[43m)\u001b[49m\n\u001b[1;32m     16\u001b[0m \u001b[38;5;28;01melif\u001b[39;00m (choice \u001b[38;5;241m==\u001b[39m \u001b[38;5;241m6\u001b[39m):\n\u001b[1;32m     17\u001b[0m     clear(list_of_tabs)\n",
      "File \u001b[0;32m~/workspace/Midterm_FCS_November_2023/functions.py:88\u001b[0m, in \u001b[0;36madd_nested_tab\u001b[0;34m(tabs)\u001b[0m\n\u001b[1;32m     86\u001b[0m \u001b[38;5;28;01mdef\u001b[39;00m \u001b[38;5;21madd_nested_tab\u001b[39m(tabs):\n\u001b[1;32m     87\u001b[0m     index \u001b[38;5;241m=\u001b[39m get_index(tabs)\n\u001b[0;32m---> 88\u001b[0m     title \u001b[38;5;241m=\u001b[39m add_title(\u001b[43mtabs\u001b[49m\u001b[43m[\u001b[49m\u001b[38;5;124;43m'\u001b[39;49m\u001b[38;5;124;43mnested_tabs\u001b[39;49m\u001b[38;5;124;43m'\u001b[39;49m\u001b[43m]\u001b[49m)\n\u001b[1;32m     89\u001b[0m     \u001b[38;5;28mprint\u001b[39m(\u001b[38;5;124m\"\u001b[39m\u001b[38;5;130;01m\\n\u001b[39;00m\u001b[38;5;124m\"\u001b[39m)\n\u001b[1;32m     90\u001b[0m     url \u001b[38;5;241m=\u001b[39m validateURL()\n",
      "\u001b[0;31mTypeError\u001b[0m: list indices must be integers or slices, not str"
     ]
    }
   ],
   "source": [
    "stop = False\n",
    "list_of_tabs = []\n",
    "while (not stop):\n",
    "    choice = eval(input(\"enter choice: \"))\n",
    "    print(\"\\n\")\n",
    "    if (choice == 1):\n",
    "        add_tab(list_of_tabs)\n",
    "    elif (choice == 2):\n",
    "        remove_tab(list_of_tabs)\n",
    "    elif (choice == 3):\n",
    "        display(list_of_tabs)\n",
    "    elif (choice == 4):\n",
    "        display_titles(list_of_tabs)\n",
    "    elif (choice == 5):\n",
    "        add_nested_tab(list_of_tabs)\n",
    "    elif (choice == 6):\n",
    "        clear(list_of_tabs)\n",
    "    elif (choice == 7):\n",
    "        saveTabs(list_of_tabs)\n",
    "    elif (choice == 8):\n",
    "        loadTabs(list_of_tabs)\n",
    "    elif (choice == 9):\n",
    "        stop = True\n",
    "    #for i in range(2):\n",
    "    #    clear_output(wait=True)\n",
    "    #print('\\n')"
   ]
  },
  {
   "cell_type": "code",
   "execution_count": 9,
   "id": "703c19ba",
   "metadata": {},
   "outputs": [
    {
     "data": {
      "text/plain": [
       "[]"
      ]
     },
     "execution_count": 9,
     "metadata": {},
     "output_type": "execute_result"
    }
   ],
   "source": [
    "list_of_tabs"
   ]
  },
  {
   "cell_type": "code",
   "execution_count": null,
   "id": "6186f546",
   "metadata": {},
   "outputs": [],
   "source": []
  }
 ],
 "metadata": {
  "kernelspec": {
   "display_name": "Python 3 (ipykernel)",
   "language": "python",
   "name": "python3"
  },
  "language_info": {
   "codemirror_mode": {
    "name": "ipython",
    "version": 3
   },
   "file_extension": ".py",
   "mimetype": "text/x-python",
   "name": "python",
   "nbconvert_exporter": "python",
   "pygments_lexer": "ipython3",
   "version": "3.9.12"
  }
 },
 "nbformat": 4,
 "nbformat_minor": 5
}
