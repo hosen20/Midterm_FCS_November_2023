{
 "cells": [
  {
   "cell_type": "code",
   "execution_count": null,
   "id": "ceb9cecb",
   "metadata": {},
   "outputs": [],
   "source": []
  },
  {
   "cell_type": "code",
   "execution_count": 1,
   "id": "87031718",
   "metadata": {},
   "outputs": [],
   "source": [
    "from urllib.parse import urlparse\n",
    "\n",
    "def is_url(url):\n",
    "  try:\n",
    "    result = urlparse(url)\n",
    "    return all([result.scheme, result.netloc])\n",
    "  except ValueError:\n",
    "    return False"
   ]
  },
  {
   "cell_type": "code",
   "execution_count": 6,
   "id": "feab662c",
   "metadata": {},
   "outputs": [
    {
     "data": {
      "text/plain": [
       "True"
      ]
     },
     "execution_count": 6,
     "metadata": {},
     "output_type": "execute_result"
    }
   ],
   "source": [
    "is_url('http://google')"
   ]
  },
  {
   "cell_type": "code",
   "execution_count": 8,
   "id": "cbf10208",
   "metadata": {},
   "outputs": [
    {
     "name": "stdout",
     "output_type": "stream",
     "text": [
      "Collecting validators\n",
      "  Downloading validators-0.22.0-py3-none-any.whl (26 kB)\n",
      "Installing collected packages: validators\n",
      "Successfully installed validators-0.22.0\n"
     ]
    }
   ],
   "source": [
    "!pip install validators"
   ]
  },
  {
   "cell_type": "code",
   "execution_count": 9,
   "id": "7ca03fda",
   "metadata": {},
   "outputs": [],
   "source": [
    "import validators"
   ]
  },
  {
   "cell_type": "code",
   "execution_count": 16,
   "id": "25e4e705",
   "metadata": {},
   "outputs": [
    {
     "data": {
      "text/plain": [
       "True"
      ]
     },
     "execution_count": 16,
     "metadata": {},
     "output_type": "execute_result"
    }
   ],
   "source": [
    "validators.url(\"http://www.google.com\")"
   ]
  },
  {
   "cell_type": "code",
   "execution_count": null,
   "id": "10c94ac8",
   "metadata": {},
   "outputs": [],
   "source": [
    "# https://stackoverflow.com/questions/7160737/how-to-validate-a-url-in-python-malformed-or-not\n",
    "# https://stackoverflow.com/questions/46191044/python-cant-import-a-function-from-another-py-file"
   ]
  },
  {
   "cell_type": "code",
   "execution_count": 1,
   "id": "b7865ef1",
   "metadata": {},
   "outputs": [],
   "source": [
    "import validators\n",
    "\n",
    "def validateURL():\n",
    "    user_url = input(\"please enter url: \")\n",
    "    while (not validators.url(user_url)):\n",
    "        print(\"\\n\")\n",
    "        user_url = input(\"please enter url: \")\n",
    "    return user_url"
   ]
  },
  {
   "cell_type": "code",
   "execution_count": 3,
   "id": "108f8038",
   "metadata": {},
   "outputs": [
    {
     "name": "stdout",
     "output_type": "stream",
     "text": [
      "please enter url: http://bhh.\n",
      "\n",
      "\n",
      "please enter url: http://google.com\n"
     ]
    },
    {
     "data": {
      "text/plain": [
       "'http://google.com'"
      ]
     },
     "execution_count": 3,
     "metadata": {},
     "output_type": "execute_result"
    }
   ],
   "source": [
    "validateURL()"
   ]
  },
  {
   "cell_type": "code",
   "execution_count": 13,
   "id": "df43015c",
   "metadata": {},
   "outputs": [],
   "source": [
    "list_of_tabs = []\n",
    "def add_tab(tabs):\n",
    "    user_url = validateURL()\n",
    "    title = input(\"please input title: \")\n",
    "    print(\"\\n\")\n",
    "    tabs.append({title:user_url})"
   ]
  },
  {
   "cell_type": "code",
   "execution_count": 14,
   "id": "56c5712a",
   "metadata": {},
   "outputs": [
    {
     "name": "stdout",
     "output_type": "stream",
     "text": [
      "please enter url: http://google.com\n",
      "please input title: google\n",
      "\n",
      "\n"
     ]
    }
   ],
   "source": [
    "add_tab(list_of_tabs)"
   ]
  },
  {
   "cell_type": "code",
   "execution_count": 15,
   "id": "090ed121",
   "metadata": {},
   "outputs": [
    {
     "data": {
      "text/plain": [
       "[{'google': 'http://google.com'}]"
      ]
     },
     "execution_count": 15,
     "metadata": {},
     "output_type": "execute_result"
    }
   ],
   "source": [
    "list_of_tabs"
   ]
  },
  {
   "cell_type": "code",
   "execution_count": null,
   "id": "5d3f4337",
   "metadata": {},
   "outputs": [],
   "source": [
    "# what if the title already exists?"
   ]
  }
 ],
 "metadata": {
  "kernelspec": {
   "display_name": "Python 3 (ipykernel)",
   "language": "python",
   "name": "python3"
  },
  "language_info": {
   "codemirror_mode": {
    "name": "ipython",
    "version": 3
   },
   "file_extension": ".py",
   "mimetype": "text/x-python",
   "name": "python",
   "nbconvert_exporter": "python",
   "pygments_lexer": "ipython3",
   "version": "3.9.12"
  }
 },
 "nbformat": 4,
 "nbformat_minor": 5
}
