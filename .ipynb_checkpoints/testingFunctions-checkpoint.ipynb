{
 "cells": [
  {
   "cell_type": "code",
   "execution_count": null,
   "id": "ceb9cecb",
   "metadata": {},
   "outputs": [],
   "source": [
    "# https://stackoverflow.com/questions/16122234/how-to-commit-a-change-with-both-message-and-description-from-the-command-li"
   ]
  },
  {
   "cell_type": "code",
   "execution_count": 1,
   "id": "87031718",
   "metadata": {},
   "outputs": [],
   "source": [
    "from urllib.parse import urlparse\n",
    "\n",
    "def is_url(url):\n",
    "  try:\n",
    "    result = urlparse(url)\n",
    "    return all([result.scheme, result.netloc])\n",
    "  except ValueError:\n",
    "    return False"
   ]
  },
  {
   "cell_type": "code",
   "execution_count": 6,
   "id": "feab662c",
   "metadata": {},
   "outputs": [
    {
     "data": {
      "text/plain": [
       "True"
      ]
     },
     "execution_count": 6,
     "metadata": {},
     "output_type": "execute_result"
    }
   ],
   "source": [
    "is_url('http://google')"
   ]
  },
  {
   "cell_type": "code",
   "execution_count": 8,
   "id": "cbf10208",
   "metadata": {},
   "outputs": [
    {
     "name": "stdout",
     "output_type": "stream",
     "text": [
      "Collecting validators\n",
      "  Downloading validators-0.22.0-py3-none-any.whl (26 kB)\n",
      "Installing collected packages: validators\n",
      "Successfully installed validators-0.22.0\n"
     ]
    }
   ],
   "source": [
    "!pip install validators"
   ]
  },
  {
   "cell_type": "code",
   "execution_count": 9,
   "id": "7ca03fda",
   "metadata": {},
   "outputs": [],
   "source": [
    "import validators"
   ]
  },
  {
   "cell_type": "code",
   "execution_count": 16,
   "id": "25e4e705",
   "metadata": {},
   "outputs": [
    {
     "data": {
      "text/plain": [
       "True"
      ]
     },
     "execution_count": 16,
     "metadata": {},
     "output_type": "execute_result"
    }
   ],
   "source": [
    "validators.url(\"http://www.google.com\")"
   ]
  },
  {
   "cell_type": "code",
   "execution_count": null,
   "id": "10c94ac8",
   "metadata": {},
   "outputs": [],
   "source": [
    "# https://stackoverflow.com/questions/7160737/how-to-validate-a-url-in-python-malformed-or-not\n",
    "# https://stackoverflow.com/questions/46191044/python-cant-import-a-function-from-another-py-file"
   ]
  },
  {
   "cell_type": "code",
   "execution_count": 1,
   "id": "b7865ef1",
   "metadata": {},
   "outputs": [],
   "source": [
    "import validators\n",
    "\n",
    "def validateURL():\n",
    "    user_url = input(\"please enter url: \")\n",
    "    while (not validators.url(user_url)):\n",
    "        print(\"\\n\")\n",
    "        user_url = input(\"please enter url: \")\n",
    "    return user_url"
   ]
  },
  {
   "cell_type": "code",
   "execution_count": 3,
   "id": "108f8038",
   "metadata": {},
   "outputs": [
    {
     "name": "stdout",
     "output_type": "stream",
     "text": [
      "please enter url: http://bhh.\n",
      "\n",
      "\n",
      "please enter url: http://google.com\n"
     ]
    },
    {
     "data": {
      "text/plain": [
       "'http://google.com'"
      ]
     },
     "execution_count": 3,
     "metadata": {},
     "output_type": "execute_result"
    }
   ],
   "source": [
    "validateURL()"
   ]
  },
  {
   "cell_type": "code",
   "execution_count": 13,
   "id": "df43015c",
   "metadata": {},
   "outputs": [],
   "source": [
    "list_of_tabs = []\n",
    "def add_tab(tabs):\n",
    "    user_url = validateURL()\n",
    "    title = input(\"please input title: \")\n",
    "    print(\"\\n\")\n",
    "    tabs.append({title:user_url})"
   ]
  },
  {
   "cell_type": "code",
   "execution_count": 14,
   "id": "56c5712a",
   "metadata": {},
   "outputs": [
    {
     "name": "stdout",
     "output_type": "stream",
     "text": [
      "please enter url: http://google.com\n",
      "please input title: google\n",
      "\n",
      "\n"
     ]
    }
   ],
   "source": [
    "add_tab(list_of_tabs)"
   ]
  },
  {
   "cell_type": "code",
   "execution_count": 15,
   "id": "090ed121",
   "metadata": {},
   "outputs": [
    {
     "data": {
      "text/plain": [
       "[{'google': 'http://google.com'}]"
      ]
     },
     "execution_count": 15,
     "metadata": {},
     "output_type": "execute_result"
    }
   ],
   "source": [
    "list_of_tabs"
   ]
  },
  {
   "cell_type": "code",
   "execution_count": null,
   "id": "5d3f4337",
   "metadata": {},
   "outputs": [],
   "source": [
    "# what if the title already exists?"
   ]
  },
  {
   "cell_type": "code",
   "execution_count": null,
   "id": "9d968f34",
   "metadata": {},
   "outputs": [],
   "source": []
  },
  {
   "cell_type": "code",
   "execution_count": 1,
   "id": "a41592f6",
   "metadata": {},
   "outputs": [
    {
     "name": "stdout",
     "output_type": "stream",
     "text": [
      "Requirement already satisfied: requests in /home/hussein/anaconda3/lib/python3.9/site-packages (2.31.0)\n",
      "Requirement already satisfied: beautifulsoup4 in /home/hussein/anaconda3/lib/python3.9/site-packages (4.11.1)\n",
      "Requirement already satisfied: charset-normalizer<4,>=2 in /home/hussein/anaconda3/lib/python3.9/site-packages (from requests) (2.0.4)\n",
      "Requirement already satisfied: urllib3<3,>=1.21.1 in /home/hussein/anaconda3/lib/python3.9/site-packages (from requests) (1.26.9)\n",
      "Requirement already satisfied: certifi>=2017.4.17 in /home/hussein/anaconda3/lib/python3.9/site-packages (from requests) (2021.10.8)\n",
      "Requirement already satisfied: idna<4,>=2.5 in /home/hussein/anaconda3/lib/python3.9/site-packages (from requests) (3.3)\n",
      "Requirement already satisfied: soupsieve>1.2 in /home/hussein/anaconda3/lib/python3.9/site-packages (from beautifulsoup4) (2.3.1)\n",
      "Note: you may need to restart the kernel to use updated packages.\n"
     ]
    }
   ],
   "source": [
    "%pip install requests beautifulsoup4"
   ]
  },
  {
   "cell_type": "code",
   "execution_count": 5,
   "id": "414f47bb",
   "metadata": {},
   "outputs": [],
   "source": [
    "import requests\n",
    "from bs4 import BeautifulSoup\n",
    "import time"
   ]
  },
  {
   "cell_type": "code",
   "execution_count": 24,
   "id": "907d2eaf",
   "metadata": {},
   "outputs": [],
   "source": [
    "def get_html(url):\n",
    "    headers = {\n",
    "\"User-Agent\": \"Mozilla/5.0 (Windows NT 10.0; Win64; x64) AppleWebKit/537.36(KHTML, like Gecko) Chrome/58.0.3029.110 Safari/537.36\"\n",
    "    }\n",
    "    error = True\n",
    "    ct = 0\n",
    "    while(error and ct < 3):\n",
    "        ct = ct + 1\n",
    "        time.sleep(3)\n",
    "        try:\n",
    "            response = requests.get(url, headers=headers)\n",
    "            if response.status_code == 200:\n",
    "                error = False\n",
    "                # Parse the HTML content of the page using BeautifulSoup\n",
    "                soup = BeautifulSoup(response.text, \"html.parser\")\n",
    "                return soup\n",
    "        except:\n",
    "            error = True\n",
    "    return \"error\""
   ]
  },
  {
   "cell_type": "code",
   "execution_count": 25,
   "id": "c171801e",
   "metadata": {},
   "outputs": [
    {
     "data": {
      "text/plain": [
       "'error'"
      ]
     },
     "execution_count": 25,
     "metadata": {},
     "output_type": "execute_result"
    }
   ],
   "source": [
    "get_html(\"https://bfhsjeke.com\")"
   ]
  },
  {
   "cell_type": "code",
   "execution_count": null,
   "id": "56663e14",
   "metadata": {},
   "outputs": [],
   "source": [
    "# added from the project QNLP"
   ]
  },
  {
   "cell_type": "code",
   "execution_count": 1,
   "id": "8ae17033",
   "metadata": {},
   "outputs": [],
   "source": [
    "def printMenu():\n",
    "    print('''\n",
    "    1. Open Tab\n",
    "    2. Close Tab\n",
    "    3. Switch Tab\n",
    "    4. Display All Tabs\n",
    "    5. Open Nested Tab\n",
    "    6. Clear All Tabs\n",
    "    7. Save Tabs\n",
    "    8. Import Tabs\n",
    "    9. Exit\n",
    "    ''')"
   ]
  },
  {
   "cell_type": "code",
   "execution_count": 2,
   "id": "1bcdd614",
   "metadata": {},
   "outputs": [
    {
     "name": "stdout",
     "output_type": "stream",
     "text": [
      "\n",
      "    1. Open Tab\n",
      "    2. Close Tab\n",
      "    3. Switch Tab\n",
      "    4. Display All Tabs\n",
      "    5. Open Nested Tab\n",
      "    6. Clear All Tabs\n",
      "    7. Save Tabs\n",
      "    8. Import Tabs\n",
      "    9. Exit\n",
      "    \n"
     ]
    }
   ],
   "source": [
    "printMenu()"
   ]
  },
  {
   "cell_type": "code",
   "execution_count": null,
   "id": "d47127b8",
   "metadata": {},
   "outputs": [],
   "source": []
  }
 ],
 "metadata": {
  "kernelspec": {
   "display_name": "Python 3 (ipykernel)",
   "language": "python",
   "name": "python3"
  },
  "language_info": {
   "codemirror_mode": {
    "name": "ipython",
    "version": 3
   },
   "file_extension": ".py",
   "mimetype": "text/x-python",
   "name": "python",
   "nbconvert_exporter": "python",
   "pygments_lexer": "ipython3",
   "version": "3.9.12"
  }
 },
 "nbformat": 4,
 "nbformat_minor": 5
}
