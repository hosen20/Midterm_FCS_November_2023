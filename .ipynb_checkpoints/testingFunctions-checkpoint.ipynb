{
 "cells": [
  {
   "cell_type": "code",
   "execution_count": null,
   "id": "ceb9cecb",
   "metadata": {},
   "outputs": [],
   "source": [
    "# https://stackoverflow.com/questions/16122234/how-to-commit-a-change-with-both-message-and-description-from-the-command-li\n",
    "# https://stackoverflow.com/questions/7160737/how-to-validate-a-url-in-python-malformed-or-not\n",
    "# https://stackoverflow.com/questions/46191044/python-cant-import-a-function-from-another-py-file"
   ]
  },
  {
   "cell_type": "code",
   "execution_count": null,
   "id": "cbf10208",
   "metadata": {},
   "outputs": [],
   "source": [
    "!pip install validators"
   ]
  },
  {
   "cell_type": "code",
   "execution_count": 5,
   "id": "7ca03fda",
   "metadata": {},
   "outputs": [],
   "source": []
  },
  {
   "cell_type": "code",
   "execution_count": null,
   "id": "25e4e705",
   "metadata": {},
   "outputs": [],
   "source": [
    "validators.url(\"http://www.google.com\")"
   ]
  },
  {
   "cell_type": "code",
   "execution_count": 7,
   "id": "b7865ef1",
   "metadata": {},
   "outputs": [],
   "source": [
    "import validators\n",
    "\n",
    "def validateURL():\n",
    "    user_url = input(\"please enter url: \")\n",
    "    while (not validators.url(user_url)):\n",
    "        print(\"\\n\")\n",
    "        user_url = input(\"please enter url: \")\n",
    "    return user_url"
   ]
  },
  {
   "cell_type": "code",
   "execution_count": null,
   "id": "108f8038",
   "metadata": {},
   "outputs": [],
   "source": [
    "validateURL()"
   ]
  },
  {
   "cell_type": "code",
   "execution_count": null,
   "id": "6f6ec7e8",
   "metadata": {},
   "outputs": [],
   "source": []
  },
  {
   "cell_type": "code",
   "execution_count": 8,
   "id": "84a463f4",
   "metadata": {},
   "outputs": [],
   "source": [
    "def get_index(tabs):\n",
    "    index = eval(input(\"enter index: \"))\n",
    "    print(\"\\n\")\n",
    "    while (index >= len(tabs) or index < 0):\n",
    "        index = eval(input(\"enter index: \"))\n",
    "        print(\"\\n\")\n",
    "    return index"
   ]
  },
  {
   "cell_type": "code",
   "execution_count": null,
   "id": "7115d436",
   "metadata": {},
   "outputs": [],
   "source": []
  },
  {
   "cell_type": "code",
   "execution_count": 9,
   "id": "be504cfd",
   "metadata": {},
   "outputs": [],
   "source": [
    "list_of_tabs = []"
   ]
  },
  {
   "cell_type": "code",
   "execution_count": 10,
   "id": "df43015c",
   "metadata": {},
   "outputs": [],
   "source": [
    "def add_tab(tabs):\n",
    "    user_url = validateURL()\n",
    "    title = input(\"please input title: \")\n",
    "    print(\"\\n\")\n",
    "    tabs.append({title:user_url, 'nested_tabs':[]})"
   ]
  },
  {
   "cell_type": "code",
   "execution_count": 11,
   "id": "56c5712a",
   "metadata": {},
   "outputs": [
    {
     "name": "stdout",
     "output_type": "stream",
     "text": [
      "please enter url: http://google.com\n",
      "please input title: google\n",
      "\n",
      "\n"
     ]
    }
   ],
   "source": [
    "add_tab(list_of_tabs)"
   ]
  },
  {
   "cell_type": "code",
   "execution_count": 12,
   "id": "090ed121",
   "metadata": {},
   "outputs": [
    {
     "data": {
      "text/plain": [
       "[{'google': 'http://google.com', 'nested_tabs': []}]"
      ]
     },
     "execution_count": 12,
     "metadata": {},
     "output_type": "execute_result"
    }
   ],
   "source": [
    "list_of_tabs"
   ]
  },
  {
   "cell_type": "code",
   "execution_count": null,
   "id": "5d3f4337",
   "metadata": {},
   "outputs": [],
   "source": [
    "# what if the title already exists?"
   ]
  },
  {
   "cell_type": "code",
   "execution_count": null,
   "id": "9d968f34",
   "metadata": {},
   "outputs": [],
   "source": []
  },
  {
   "cell_type": "code",
   "execution_count": null,
   "id": "a41592f6",
   "metadata": {},
   "outputs": [],
   "source": [
    "%pip install requests beautifulsoup4"
   ]
  },
  {
   "cell_type": "code",
   "execution_count": null,
   "id": "414f47bb",
   "metadata": {},
   "outputs": [],
   "source": [
    "import requests\n",
    "from bs4 import BeautifulSoup\n",
    "import time"
   ]
  },
  {
   "cell_type": "code",
   "execution_count": null,
   "id": "907d2eaf",
   "metadata": {},
   "outputs": [],
   "source": [
    "def get_html(url):\n",
    "    headers = {\n",
    "\"User-Agent\": \"Mozilla/5.0 (Windows NT 10.0; Win64; x64) AppleWebKit/537.36(KHTML, like Gecko) Chrome/58.0.3029.110 Safari/537.36\"\n",
    "    }\n",
    "    error = True\n",
    "    ct = 0\n",
    "    while(error and ct < 3):\n",
    "        ct = ct + 1\n",
    "        time.sleep(3)\n",
    "        try:\n",
    "            response = requests.get(url, headers=headers)\n",
    "            if response.status_code == 200:\n",
    "                error = False\n",
    "                # Parse the HTML content of the page using BeautifulSoup\n",
    "                soup = BeautifulSoup(response.text, \"html.parser\")\n",
    "                return soup\n",
    "        except:\n",
    "            error = True\n",
    "    return \"error\""
   ]
  },
  {
   "cell_type": "code",
   "execution_count": null,
   "id": "c171801e",
   "metadata": {},
   "outputs": [],
   "source": [
    "get_html(\"https://bfhsjeke.com\")"
   ]
  },
  {
   "cell_type": "code",
   "execution_count": null,
   "id": "56663e14",
   "metadata": {},
   "outputs": [],
   "source": [
    "# added from the project QNLP"
   ]
  },
  {
   "cell_type": "code",
   "execution_count": null,
   "id": "8ae17033",
   "metadata": {},
   "outputs": [],
   "source": [
    "def printMenu():\n",
    "    print('''\n",
    "    1. Open Tab\n",
    "    2. Close Tab\n",
    "    3. Switch Tab\n",
    "    4. Display All Tabs\n",
    "    5. Open Nested Tab\n",
    "    6. Clear All Tabs\n",
    "    7. Save Tabs\n",
    "    8. Import Tabs\n",
    "    9. Exit\n",
    "    ''')"
   ]
  },
  {
   "cell_type": "code",
   "execution_count": null,
   "id": "1bcdd614",
   "metadata": {},
   "outputs": [],
   "source": [
    "printMenu()"
   ]
  },
  {
   "cell_type": "code",
   "execution_count": 13,
   "id": "d47127b8",
   "metadata": {},
   "outputs": [],
   "source": [
    "def add_nested_tab(tabs):\n",
    "    index = get_index(tabs)\n",
    "    title = input(\"enter title: \")\n",
    "    print(\"\\n\")\n",
    "    url = validateURL()\n",
    "    tabs[index]['nested_tabs'].append({title:url})"
   ]
  },
  {
   "cell_type": "code",
   "execution_count": 14,
   "id": "ded196b7",
   "metadata": {},
   "outputs": [
    {
     "name": "stdout",
     "output_type": "stream",
     "text": [
      "enter index: 1\n",
      "\n",
      "\n",
      "enter index: 0\n",
      "\n",
      "\n",
      "enter title: facebook\n",
      "\n",
      "\n",
      "please enter url: http://facebook.com\n"
     ]
    }
   ],
   "source": [
    "add_nested_tab(list_of_tabs)"
   ]
  },
  {
   "cell_type": "code",
   "execution_count": 15,
   "id": "657bb2b7",
   "metadata": {},
   "outputs": [
    {
     "data": {
      "text/plain": [
       "[{'google': 'http://google.com',\n",
       "  'nested_tabs': [{'facebook': 'http://facebook.com'}]}]"
      ]
     },
     "execution_count": 15,
     "metadata": {},
     "output_type": "execute_result"
    }
   ],
   "source": [
    "list_of_tabs"
   ]
  },
  {
   "cell_type": "code",
   "execution_count": null,
   "id": "9156cccb",
   "metadata": {},
   "outputs": [],
   "source": [
    "x = {'title':'value'}\n",
    "list(x.keys())[0]"
   ]
  },
  {
   "cell_type": "code",
   "execution_count": 16,
   "id": "1d60d0f5",
   "metadata": {},
   "outputs": [],
   "source": [
    "# if tabs id empty?\n",
    "def remove_tab(tabs):\n",
    "    index = get_index(tabs)\n",
    "    tabs.pop(index)"
   ]
  },
  {
   "cell_type": "code",
   "execution_count": 17,
   "id": "22c0031d",
   "metadata": {},
   "outputs": [
    {
     "name": "stdout",
     "output_type": "stream",
     "text": [
      "enter index: 1\n",
      "\n",
      "\n",
      "enter index: 2\n",
      "\n",
      "\n",
      "enter index: -1\n",
      "\n",
      "\n",
      "enter index: 0\n",
      "\n",
      "\n"
     ]
    }
   ],
   "source": [
    "remove_tab(list_of_tabs)"
   ]
  },
  {
   "cell_type": "code",
   "execution_count": 18,
   "id": "698e9f97",
   "metadata": {},
   "outputs": [
    {
     "data": {
      "text/plain": [
       "[]"
      ]
     },
     "execution_count": 18,
     "metadata": {},
     "output_type": "execute_result"
    }
   ],
   "source": [
    "list_of_tabs"
   ]
  },
  {
   "cell_type": "code",
   "execution_count": null,
   "id": "ab10406a",
   "metadata": {},
   "outputs": [],
   "source": []
  }
 ],
 "metadata": {
  "kernelspec": {
   "display_name": "Python 3 (ipykernel)",
   "language": "python",
   "name": "python3"
  },
  "language_info": {
   "codemirror_mode": {
    "name": "ipython",
    "version": 3
   },
   "file_extension": ".py",
   "mimetype": "text/x-python",
   "name": "python",
   "nbconvert_exporter": "python",
   "pygments_lexer": "ipython3",
   "version": "3.9.12"
  }
 },
 "nbformat": 4,
 "nbformat_minor": 5
}
