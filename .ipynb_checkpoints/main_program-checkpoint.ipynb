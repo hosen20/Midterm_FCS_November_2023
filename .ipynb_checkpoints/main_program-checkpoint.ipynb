{
 "cells": [
  {
   "cell_type": "code",
   "execution_count": 2,
   "id": "2c8004f9",
   "metadata": {},
   "outputs": [],
   "source": [
    "from functions import *"
   ]
  },
  {
   "cell_type": "code",
   "execution_count": 3,
   "id": "08c61075",
   "metadata": {},
   "outputs": [],
   "source": [
    "import os\n",
    "import validators\n",
    "import requests\n",
    "from bs4 import BeautifulSoup\n",
    "import time\n",
    "import json\n",
    "from IPython.display import clear_output"
   ]
  },
  {
   "cell_type": "code",
   "execution_count": 4,
   "id": "bacded3c",
   "metadata": {},
   "outputs": [
    {
     "name": "stdout",
     "output_type": "stream",
     "text": [
      "enter choice: 1\n",
      "\n",
      "\n",
      "please enter url: http://google.com\n",
      "enter title: google\n",
      "\n",
      "\n",
      "enter choice: 4\n",
      "\n",
      "\n",
      "google\n",
      "enter choice: 1\n",
      "\n",
      "\n",
      "please enter url: http://facebook.com\n",
      "enter title: facebook\n",
      "\n",
      "\n",
      "enter choice: 4\n",
      "\n",
      "\n",
      "google\n",
      "facebook\n",
      "enter choice: 5\n",
      "\n",
      "\n",
      "enter index: 2\n",
      "\n",
      "\n",
      "enter index: 0\n",
      "\n",
      "\n",
      "enter title: sefactory\n",
      "\n",
      "\n",
      "\n",
      "\n",
      "please enter url: http://sefactory.io\n",
      "enter choice: 4\n",
      "\n",
      "\n",
      "google\n",
      "\t--sefactory\n",
      "facebook\n",
      "enter choice: 2\n",
      "\n",
      "\n",
      "enter index: 3\n",
      "\n",
      "\n",
      "enter index: 2\n",
      "\n",
      "\n",
      "enter index: 1\n",
      "\n",
      "\n",
      "enter choice: 4\n",
      "\n",
      "\n",
      "google\n",
      "\t--sefactory\n",
      "enter choice: 3\n",
      "\n",
      "\n",
      "enter index: 1\n",
      "\n",
      "\n",
      "enter index: \n"
     ]
    },
    {
     "ename": "SyntaxError",
     "evalue": "unexpected EOF while parsing (<string>, line 0)",
     "output_type": "error",
     "traceback": [
      "Traceback \u001b[0;36m(most recent call last)\u001b[0m:\n",
      "  File \u001b[1;32m~/anaconda3/lib/python3.9/site-packages/IPython/core/interactiveshell.py:3369\u001b[0m in \u001b[1;35mrun_code\u001b[0m\n    exec(code_obj, self.user_global_ns, self.user_ns)\n",
      "  Input \u001b[1;32mIn [4]\u001b[0m in \u001b[1;35m<cell line: 3>\u001b[0m\n    display(list_of_tabs)\n",
      "  File \u001b[1;32m~/workspace/Midterm_FCS_November_2023/functions.py:106\u001b[0m in \u001b[1;35mdisplay\u001b[0m\n    index = get_index(tabs)\n",
      "\u001b[0;36m  File \u001b[0;32m~/workspace/Midterm_FCS_November_2023/functions.py:40\u001b[0;36m in \u001b[0;35mget_index\u001b[0;36m\u001b[0m\n\u001b[0;31m    index = eval(input(\"enter index: \"))\u001b[0m\n",
      "\u001b[0;36m  File \u001b[0;32m<string>\u001b[0;36m\u001b[0m\n\u001b[0;31m    \u001b[0m\n\u001b[0m    ^\u001b[0m\n\u001b[0;31mSyntaxError\u001b[0m\u001b[0;31m:\u001b[0m unexpected EOF while parsing\n"
     ]
    }
   ],
   "source": [
    "stop = False\n",
    "list_of_tabs = []\n",
    "while (not stop):\n",
    "    choice = eval(input(\"enter choice: \"))\n",
    "    print(\"\\n\")\n",
    "    if (choice == 1):\n",
    "        add_tab(list_of_tabs)\n",
    "    elif (choice == 2):\n",
    "        remove_tab(list_of_tabs)\n",
    "    elif (choice == 3):\n",
    "        display(list_of_tabs)\n",
    "    elif (choice == 4):\n",
    "        display_titles(list_of_tabs)\n",
    "    elif (choice == 5):\n",
    "        add_nested_tab(list_of_tabs)\n",
    "    elif (choice == 6):\n",
    "        clear(list_of_tabs)\n",
    "    elif (choice == 7):\n",
    "        saveTabs(list_of_tabs)\n",
    "    elif (choice == 8):\n",
    "        loadTabs(list_of_tabs)\n",
    "    elif (choice == 9):\n",
    "        stop = True\n",
    "    #for i in range(2):\n",
    "     #   clear_output(wait=False)\n",
    "    #print('\\n')"
   ]
  },
  {
   "cell_type": "code",
   "execution_count": 9,
   "id": "703c19ba",
   "metadata": {},
   "outputs": [
    {
     "data": {
      "text/plain": [
       "[]"
      ]
     },
     "execution_count": 9,
     "metadata": {},
     "output_type": "execute_result"
    }
   ],
   "source": [
    "list_of_tabs"
   ]
  },
  {
   "cell_type": "code",
   "execution_count": null,
   "id": "6186f546",
   "metadata": {},
   "outputs": [],
   "source": []
  }
 ],
 "metadata": {
  "kernelspec": {
   "display_name": "Python 3 (ipykernel)",
   "language": "python",
   "name": "python3"
  },
  "language_info": {
   "codemirror_mode": {
    "name": "ipython",
    "version": 3
   },
   "file_extension": ".py",
   "mimetype": "text/x-python",
   "name": "python",
   "nbconvert_exporter": "python",
   "pygments_lexer": "ipython3",
   "version": "3.9.12"
  }
 },
 "nbformat": 4,
 "nbformat_minor": 5
}
