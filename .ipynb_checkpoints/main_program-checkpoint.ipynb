{
 "cells": [
  {
   "cell_type": "code",
   "execution_count": 1,
   "id": "2c8004f9",
   "metadata": {},
   "outputs": [],
   "source": [
    "import functions as fnc"
   ]
  },
  {
   "cell_type": "code",
   "execution_count": 2,
   "id": "08c61075",
   "metadata": {},
   "outputs": [
    {
     "name": "stdout",
     "output_type": "stream",
     "text": [
      "please enter url: 23\n",
      "\n",
      "\n",
      "please enter url: hy\n",
      "\n",
      "\n",
      "please enter url: https://google.com\n"
     ]
    },
    {
     "data": {
      "text/plain": [
       "'https://google.com'"
      ]
     },
     "execution_count": 2,
     "metadata": {},
     "output_type": "execute_result"
    }
   ],
   "source": [
    "fnc.validateURL()"
   ]
  },
  {
   "cell_type": "code",
   "execution_count": 1,
   "id": "c91a2db1",
   "metadata": {},
   "outputs": [
    {
     "name": "stdout",
     "output_type": "stream",
     "text": [
      "enter choice1\n",
      "enter choice2\n",
      "enter choice3\n",
      "enter choice4\n",
      "enter choice5\n",
      "enter choice6\n",
      "enter choice7\n",
      "enter choice8\n",
      "enter choice9\n"
     ]
    }
   ],
   "source": [
    "stop = False\n",
    "while (not stop):\n",
    "    choice = eval(input(\"enter choice\"))\n",
    "    if (choice == 1):\n",
    "        pass\n",
    "    elif (choice == 2):\n",
    "        pass\n",
    "    elif (choice == 3):\n",
    "        pass\n",
    "    elif (choice == 4):\n",
    "        pass\n",
    "    elif (choice == 5):\n",
    "        pass\n",
    "    elif (choice == 6):\n",
    "        pass\n",
    "    elif (choice == 7):\n",
    "        pass\n",
    "    elif (choice == 8):\n",
    "        pass\n",
    "    elif (choice == 9):\n",
    "        stop = True"
   ]
  },
  {
   "cell_type": "code",
   "execution_count": null,
   "id": "703c19ba",
   "metadata": {},
   "outputs": [],
   "source": []
  }
 ],
 "metadata": {
  "kernelspec": {
   "display_name": "Python 3 (ipykernel)",
   "language": "python",
   "name": "python3"
  },
  "language_info": {
   "codemirror_mode": {
    "name": "ipython",
    "version": 3
   },
   "file_extension": ".py",
   "mimetype": "text/x-python",
   "name": "python",
   "nbconvert_exporter": "python",
   "pygments_lexer": "ipython3",
   "version": "3.9.12"
  }
 },
 "nbformat": 4,
 "nbformat_minor": 5
}
